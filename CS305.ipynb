{
 "cells": [
  {
   "cell_type": "raw",
   "metadata": {
    "collapsed": false
   },
   "source": [
    "In the project, the majority of tasks will undergo script testing, with only a few being reviewed by the TA. Be aware that this testing material is not final and cannot cover all testing scenarios. If you are caught cheating during testing, the whole group will receive a score of 0 for the project."
   ]
  },
  {
   "cell_type": "raw",
   "metadata": {
    "collapsed": false
   },
   "source": [
    "The script checks using the requests library in Python. Before testing, ensure that the server has three users with the usernames \"client1\", \"client2\", and \"client3\", and the passwords \"123\". In the upcoming tests, if the Authorization field is needed, use \"client1\" and \"123\" as both the username and password."
   ]
  },
  {
   "cell_type": "code",
   "execution_count": 18,
   "metadata": {
    "collapsed": false,
    "ExecuteTime": {
     "end_time": "2024-01-01T13:35:06.387843918Z",
     "start_time": "2024-01-01T13:35:06.382820895Z"
    }
   },
   "outputs": [],
   "source": [
    "import requests"
   ]
  },
  {
   "cell_type": "raw",
   "metadata": {
    "collapsed": false
   },
   "source": [
    "The initial check is the head request, a fundamental job of the server is to respond to the request. Use the \"headers\" parameter for logging into the server. Disregard this parameter if the server lacks the login feature."
   ]
  },
  {
   "cell_type": "code",
   "execution_count": 19,
   "metadata": {
    "collapsed": false,
    "ExecuteTime": {
     "end_time": "2024-01-01T13:35:06.394032278Z",
     "start_time": "2024-01-01T13:35:06.388618021Z"
    }
   },
   "outputs": [
    {
     "name": "stdout",
     "output_type": "stream",
     "text": [
      "<Response [200]>\n"
     ]
    }
   ],
   "source": [
    "headers = {\"Authorization\": \"Basic Y2xpZW50MToxMjM=\"}\n",
    "q = requests.head('http://localhost:8080/', headers=headers)\n",
    "print(q)\n"
   ]
  },
  {
   "cell_type": "raw",
   "metadata": {
    "collapsed": false
   },
   "source": [
    "Test get request"
   ]
  },
  {
   "cell_type": "code",
   "execution_count": 20,
   "metadata": {
    "collapsed": false,
    "ExecuteTime": {
     "end_time": "2024-01-01T13:35:06.451874444Z",
     "start_time": "2024-01-01T13:35:06.394933038Z"
    }
   },
   "outputs": [
    {
     "name": "stdout",
     "output_type": "stream",
     "text": [
      "<Response [200]>\n"
     ]
    }
   ],
   "source": [
    "headers = {\"Authorization\": \"Basic Y2xpZW50MToxMjM=\"}\n",
    "q = requests.get('http://localhost:8080/', headers=headers)\n",
    "print(q)"
   ]
  },
  {
   "cell_type": "raw",
   "metadata": {
    "collapsed": false
   },
   "source": [
    "Test post request"
   ]
  },
  {
   "cell_type": "code",
   "execution_count": 21,
   "metadata": {
    "collapsed": false,
    "ExecuteTime": {
     "end_time": "2024-01-01T13:35:06.452749666Z",
     "start_time": "2024-01-01T13:35:06.443464116Z"
    }
   },
   "outputs": [
    {
     "name": "stdout",
     "output_type": "stream",
     "text": [
      "<Response [200]>\n"
     ]
    }
   ],
   "source": [
    "headers = {\"Authorization\": \"Basic Y2xpZW50MToxMjM=\"}\n",
    "q = requests.post('http://localhost:8080/', headers=headers)\n",
    "print(q)"
   ]
  },
  {
   "cell_type": "raw",
   "metadata": {
    "collapsed": false
   },
   "source": [
    "Next, we will provide test examples based on the chapters in the project documentation. Each test is accompanied by a output. We do not check exact string matches for your output, as long as you complete the corresponding task.\n",
    "\n"
   ]
  },
  {
   "cell_type": "code",
   "execution_count": 22,
   "metadata": {
    "collapsed": false,
    "ExecuteTime": {
     "end_time": "2024-01-01T13:35:06.453410857Z",
     "start_time": "2024-01-01T13:35:06.443753619Z"
    }
   },
   "outputs": [
    {
     "name": "stdout",
     "output_type": "stream",
     "text": [
      "<Response [200]>\n",
      "<Response [200]>\n"
     ]
    }
   ],
   "source": [
    "#1.1\n",
    "headers = {\"Authorization\": \"Basic Y2xpZW50MToxMjM=\"}\n",
    "session = requests.Session()\n",
    "session.headers.update({'Connection': 'keep-alive'})\n",
    "\n",
    "response1 = session.get('http://127.0.0.1:8080', headers=headers)\n",
    "response2 = session.get('http://127.0.0.1:8080', headers=headers)\n",
    "\n",
    "print(response1)\n",
    "print(response2)\n",
    "\n",
    "\n"
   ]
  },
  {
   "cell_type": "code",
   "execution_count": 23,
   "metadata": {
    "collapsed": false,
    "ExecuteTime": {
     "end_time": "2024-01-01T13:35:06.453929380Z",
     "start_time": "2024-01-01T13:35:06.443916525Z"
    }
   },
   "outputs": [
    {
     "name": "stdout",
     "output_type": "stream",
     "text": [
      "<Response [200]>\n",
      "<Response [200]>\n"
     ]
    }
   ],
   "source": [
    "#1.2\n",
    "#1.1\n",
    "headers = {\"Authorization\": \"Basic Y2xpZW50MToxMjM=\"}\n",
    "session1 = requests.Session()\n",
    "session1.headers.update({'Connection': 'keep-alive'})\n",
    "session2 = requests.Session()\n",
    "session2.headers.update({'Connection': 'keep-alive'})\n",
    "\n",
    "response1 = session1.get('http://127.0.0.1:8080', headers=headers)\n",
    "response2 = session2.get('http://127.0.0.1:8080', headers=headers)\n",
    "\n",
    "print(response1)\n",
    "print(response2)\n"
   ]
  },
  {
   "cell_type": "code",
   "execution_count": 24,
   "metadata": {
    "collapsed": false,
    "ExecuteTime": {
     "end_time": "2024-01-01T13:35:06.454652697Z",
     "start_time": "2024-01-01T13:35:06.444048112Z"
    }
   },
   "outputs": [
    {
     "name": "stdout",
     "output_type": "stream",
     "text": [
      "<Response [200]>\n",
      "<Response [401]>\n"
     ]
    }
   ],
   "source": [
    "#1.3\n",
    "headers1 = {\"Authorization\": \"Basic Y2xpZW50MToxMjM=\"}\n",
    "headers2 = {}\n",
    "q = requests.head('http://localhost:8080/', headers=headers1)\n",
    "print(q)\n",
    "q = requests.head('http://localhost:8080/', headers=headers2)\n",
    "print(q)"
   ]
  },
  {
   "cell_type": "code",
   "execution_count": 25,
   "metadata": {
    "collapsed": false,
    "ExecuteTime": {
     "end_time": "2024-01-01T13:35:06.455599954Z",
     "start_time": "2024-01-01T13:35:06.444339048Z"
    }
   },
   "outputs": [
    {
     "name": "stdout",
     "output_type": "stream",
     "text": [
      "<Response [200]>\n",
      "['a.py', 'a.txt', 'client2/', 'client3/', 'client1/', '12589/']\n"
     ]
    }
   ],
   "source": [
    "#2\n",
    "url1 = 'http://127.0.0.1:8080/?SUSTech-HTTP=1'\n",
    "\n",
    "headers = {\"Authorization\": \"Basic Y2xpZW50MToxMjM=\"}\n",
    "r = requests.get(url=url1, headers=headers)\n",
    "print(r)\n",
    "print(r.content.decode())\n",
    "\n",
    "\n"
   ]
  },
  {
   "cell_type": "code",
   "execution_count": 26,
   "metadata": {
    "collapsed": false,
    "ExecuteTime": {
     "end_time": "2024-01-01T13:35:06.562933700Z",
     "start_time": "2024-01-01T13:35:06.451223012Z"
    }
   },
   "outputs": [
    {
     "name": "stdout",
     "output_type": "stream",
     "text": [
      "<!DOCTYPE HTML PUBLIC \"-//W3C//DTD HTML 4.01//EN\" \"http://www.w3.org/TR/html4/strict.dtd\">\n",
      "<style>\n",
      "    .btn-link {\n",
      "        border: none;\n",
      "        outline: none;\n",
      "        background: none;\n",
      "        cursor: pointer;\n",
      "        color: #0000EE;\n",
      "        padding: 0;\n",
      "        text-decoration: underline;\n",
      "        font-family: inherit;\n",
      "        font-size: inherit;\n",
      "    }\n",
      "</style>\n",
      "<html>\n",
      "\n",
      "<head>\n",
      "    <meta http-equiv=\"Content-Type\" content=\"text/html; charset=utf-8\">\n",
      "    <title>Dragon Server</title>\n",
      "</head>\n",
      "\n",
      "<body>\n",
      "<h1>Current Path: /.</h1>\n",
      "<p>If you are along ...</p>\n",
      "<hr>\n",
      "<ul>\n",
      "    \n",
      "    <li style=\"display: flex; justify-content: space-between; align-items: center;\">\n",
      "        <a href=\"/./\">./</a>\n",
      "\n",
      "        <form action=\"/delete?path=/./\" method=\"post\">\n",
      "            <button type=\"submit\">Delete</button>\n",
      "        </form>\n",
      "        <p></p>\n",
      "    </li>\n",
      "    \n",
      "    <li style=\"display: flex; justify-content: space-between; align-items: center;\">\n",
      "        <a href=\"/./\">../</a>\n",
      "\n",
      "        <form action=\"/delete?path=/./\" method=\"post\">\n",
      "            <button type=\"submit\">Delete</button>\n",
      "        </form>\n",
      "        <p></p>\n",
      "    </li>\n",
      "    \n",
      "    <li style=\"display: flex; justify-content: space-between; align-items: center;\">\n",
      "        <a href=\"/./a.py\">a.py</a>\n",
      "\n",
      "        <form action=\"/delete?path=/./a.py\" method=\"post\">\n",
      "            <button type=\"submit\">Delete</button>\n",
      "        </form>\n",
      "        <p></p>\n",
      "    </li>\n",
      "    \n",
      "    <li style=\"display: flex; justify-content: space-between; align-items: center;\">\n",
      "        <a href=\"/./a.txt\">a.txt</a>\n",
      "\n",
      "        <form action=\"/delete?path=/./a.txt\" method=\"post\">\n",
      "            <button type=\"submit\">Delete</button>\n",
      "        </form>\n",
      "        <p></p>\n",
      "    </li>\n",
      "    \n",
      "    <li style=\"display: flex; justify-content: space-between; align-items: center;\">\n",
      "        <a href=\"/./client2/\">client2/</a>\n",
      "\n",
      "        <form action=\"/delete?path=/./client2/\" method=\"post\">\n",
      "            <button type=\"submit\">Delete</button>\n",
      "        </form>\n",
      "        <p></p>\n",
      "    </li>\n",
      "    \n",
      "    <li style=\"display: flex; justify-content: space-between; align-items: center;\">\n",
      "        <a href=\"/./client3/\">client3/</a>\n",
      "\n",
      "        <form action=\"/delete?path=/./client3/\" method=\"post\">\n",
      "            <button type=\"submit\">Delete</button>\n",
      "        </form>\n",
      "        <p></p>\n",
      "    </li>\n",
      "    \n",
      "    <li style=\"display: flex; justify-content: space-between; align-items: center;\">\n",
      "        <a href=\"/./client1/\">client1/</a>\n",
      "\n",
      "        <form action=\"/delete?path=/./client1/\" method=\"post\">\n",
      "            <button type=\"submit\">Delete</button>\n",
      "        </form>\n",
      "        <p></p>\n",
      "    </li>\n",
      "    \n",
      "    <li style=\"display: flex; justify-content: space-between; align-items: center;\">\n",
      "        <a href=\"/./12589/\">12589/</a>\n",
      "\n",
      "        <form action=\"/delete?path=/./12589/\" method=\"post\">\n",
      "            <button type=\"submit\">Delete</button>\n",
      "        </form>\n",
      "        <p></p>\n",
      "    </li>\n",
      "    \n",
      "</ul>\n",
      "<hr>\n",
      "<form method=\"post\" enctype=\"multipart/form-data\" id=\"uploadForm\" onsubmit=\"setActionWithFilename()\">\n",
      "    <div>\n",
      "        <label for=\"file\">Choose file to upload</label>\n",
      "        <br><br>\n",
      "        <input type=\"file\" id=\"file\" name=\"file\" onchange=\"updateFilename()\"/>\n",
      "    </div>\n",
      "    <br>\n",
      "    <div>\n",
      "        <button type=\"submit\">Submit</button>\n",
      "    </div>\n",
      "</form>\n",
      "</body>\n",
      "<script>\n",
      "    function updateFilename() {\n",
      "        var fileInput = document.getElementById('file');\n",
      "        if (fileInput.files.length > 0) {\n",
      "            var filename = fileInput.files[0].name;\n",
      "            fileInput.setAttribute('data-filename', filename);\n",
      "        }\n",
      "    }\n",
      "\n",
      "    function setActionWithFilename() {\n",
      "        var form = document.getElementById('uploadForm');\n",
      "        var fileInput = document.getElementById('file');\n",
      "        var filename = fileInput.getAttribute('data-filename');\n",
      "        form.action = '/upload?path=/./';\n",
      "    }\n",
      "</script>\n",
      "\n",
      "</html>\n"
     ]
    }
   ],
   "source": [
    "#2\n",
    "url2 = 'http://127.0.0.1:8080/?SUSTech-HTTP=0'\n",
    "\n",
    "headers = {\"Authorization\": \"Basic Y2xpZW50MToxMjM=\"}\n",
    "r = requests.get(url=url2, headers=headers)\n",
    "print(r.content.decode())"
   ]
  },
  {
   "cell_type": "code",
   "execution_count": 27,
   "metadata": {
    "collapsed": false,
    "ExecuteTime": {
     "end_time": "2024-01-01T13:35:06.563575184Z",
     "start_time": "2024-01-01T13:35:06.471612335Z"
    }
   },
   "outputs": [
    {
     "name": "stdout",
     "output_type": "stream",
     "text": [
      "sadfsdfasdf\n"
     ]
    }
   ],
   "source": [
    "#2\n",
    "headers = {\"Authorization\": \"Basic Y2xpZW50MToxMjM=\"}\n",
    "r = requests.get(url='http://127.0.0.1:8080/a.txt', headers=headers)\n",
    "print(r.content.decode())"
   ]
  },
  {
   "cell_type": "code",
   "execution_count": 28,
   "metadata": {
    "collapsed": false,
    "ExecuteTime": {
     "end_time": "2024-01-01T13:35:06.564059472Z",
     "start_time": "2024-01-01T13:35:06.471881880Z"
    }
   },
   "outputs": [
    {
     "name": "stdout",
     "output_type": "stream",
     "text": [
      "<Response [200]>\n",
      "<Response [403]>\n"
     ]
    }
   ],
   "source": [
    "#3.1\n",
    "files = {\"firstFile\": open('tmp/a.txt', \"rb\")}\n",
    "\n",
    "data = {}\n",
    "headers = {\"Authorization\": \"Basic Y2xpZW50MToxMjM=\"}\n",
    "r = requests.post(url='http://127.0.0.1:8080/upload?path=client1/', data=data, headers=headers,\n",
    "                  files=files)\n",
    "print(r)\n",
    "r = requests.post(url='http://127.0.0.1:8080/upload?path=client2/', data=data, headers=headers, files=files)\n",
    "print(r)"
   ]
  },
  {
   "cell_type": "code",
   "execution_count": 29,
   "metadata": {
    "collapsed": false,
    "ExecuteTime": {
     "end_time": "2024-01-01T13:35:06.581077479Z",
     "start_time": "2024-01-01T13:35:06.513092474Z"
    }
   },
   "outputs": [
    {
     "name": "stdout",
     "output_type": "stream",
     "text": [
      "<Response [200]>\n"
     ]
    }
   ],
   "source": [
    "#3.2\n",
    "url = 'http://127.0.0.1:8080/delete?path=client1/a.py'\n",
    "\n",
    "headers = {\"Authorization\": \"Basic Y2xpZW50MToxMjM=\"}\n",
    "r = requests.post(url=url, headers=headers)\n",
    "print(r)"
   ]
  },
  {
   "cell_type": "code",
   "execution_count": 30,
   "metadata": {
    "collapsed": false,
    "ExecuteTime": {
     "end_time": "2024-01-01T13:35:06.637806116Z",
     "start_time": "2024-01-01T13:35:06.570193330Z"
    }
   },
   "outputs": [
    {
     "name": "stdout",
     "output_type": "stream",
     "text": [
      "0f11ac0b-fcba-4f52-90c3-36831821986b\n",
      "<Response [200]>\n"
     ]
    }
   ],
   "source": [
    "#4\n",
    "url = 'http://127.0.0.1:8080/'\n",
    "\n",
    "headers = {\"Authorization\": \"Basic Y2xpZW50MToxMjM=\"}\n",
    "r = requests.get(url=url, headers=headers)\n",
    "print(r.cookies.values()[0])\n",
    "headers = {\"Cookie\": 'session-id=' + r.cookies.values()[0]}\n",
    "q = requests.get('http://localhost:8080/', headers=headers)\n",
    "print(q)\n",
    "# print(q.cookies)"
   ]
  },
  {
   "cell_type": "code",
   "execution_count": 31,
   "metadata": {
    "collapsed": false,
    "ExecuteTime": {
     "end_time": "2024-01-01T13:35:06.691680128Z",
     "start_time": "2024-01-01T13:35:06.628434575Z"
    }
   },
   "outputs": [
    {
     "name": "stdout",
     "output_type": "stream",
     "text": [
      "<Response [200]>\n"
     ]
    }
   ],
   "source": [
    "#5\n",
    "headers = {\"Authorization\": \"Basic Y2xpZW50MToxMjM=\"}\n",
    "r = requests.get(url='http://127.0.0.1:8080/client1/a.txt?chunked=1', headers=headers)\n",
    "print(r)"
   ]
  },
  {
   "cell_type": "code",
   "execution_count": 33,
   "metadata": {
    "collapsed": false,
    "ExecuteTime": {
     "end_time": "2024-01-01T13:41:31.599243388Z",
     "start_time": "2024-01-01T13:41:31.581374214Z"
    }
   },
   "outputs": [
    {
     "name": "stdout",
     "output_type": "stream",
     "text": [
      "--THISISMYSELFDIFINEDBOUNDARY\r\n",
      "Content-Type: text/plain\r\n",
      "Content-Range: bytes 0-1/11\r\n",
      "\r\n",
      "sa\r\n",
      "--THISISMYSELFDIFINEDBOUNDARY\r\n",
      "Content-Type: text/plain\r\n",
      "Content-Range: bytes 1-2/11\r\n",
      "\r\n",
      "ad\r\n",
      "--THISISMYSELFDIFINEDBOUNDARY\r\n",
      "Content-Type: text/plain\r\n",
      "Content-Range: bytes 2-3/11\r\n",
      "\r\n",
      "df\r\n",
      "--THISISMYSELFDIFINEDBOUNDARY--\n"
     ]
    }
   ],
   "source": [
    "#Breakpoint Transmission\n",
    "url = 'http://127.0.0.1:8080/client1/a.txt'\n",
    "\n",
    "data = {}\n",
    "headers = {\"Authorization\": \"Basic Y2xpZW50MToxMjM=\",\n",
    "           \"Range\": \"0-1,1-2,2-3\"}\n",
    "r = requests.get(url=url, data=data, headers=headers)\n",
    "print(r.content.decode())"
   ]
  },
  {
   "cell_type": "code",
   "execution_count": 32,
   "metadata": {
    "collapsed": false,
    "ExecuteTime": {
     "end_time": "2024-01-01T13:35:06.754616772Z",
     "start_time": "2024-01-01T13:35:06.736340765Z"
    }
   },
   "outputs": [],
   "source": []
  }
 ],
 "metadata": {
  "kernelspec": {
   "display_name": "Python 3",
   "language": "python",
   "name": "python3"
  },
  "language_info": {
   "codemirror_mode": {
    "name": "ipython",
    "version": 3
   },
   "file_extension": ".py",
   "mimetype": "text/x-python",
   "name": "python",
   "nbconvert_exporter": "python",
   "pygments_lexer": "ipython3",
   "version": "3.10.0"
  }
 },
 "nbformat": 4,
 "nbformat_minor": 0
}
