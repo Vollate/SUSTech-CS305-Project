{
 "cells": [
  {
   "cell_type": "raw",
   "metadata": {
    "collapsed": false
   },
   "source": [
    "In the project, the majority of tasks will undergo script testing, with only a few being reviewed by the TA. Be aware that this testing material is not final and cannot cover all testing scenarios. If you are caught cheating during testing, the whole group will receive a score of 0 for the project."
   ]
  },
  {
   "cell_type": "raw",
   "metadata": {
    "collapsed": false
   },
   "source": [
    "The script checks using the requests library in Python. Before testing, ensure that the server has three users with the usernames \"client1\", \"client2\", and \"client3\", and the passwords \"123\". In the upcoming tests, if the Authorization field is needed, use \"client1\" and \"123\" as both the username and password."
   ]
  },
  {
   "cell_type": "code",
   "execution_count": 1,
   "metadata": {
    "collapsed": false,
    "ExecuteTime": {
     "end_time": "2023-12-31T05:58:27.961183926Z",
     "start_time": "2023-12-31T05:58:27.960554543Z"
    }
   },
   "outputs": [],
   "source": [
    "import requests"
   ]
  },
  {
   "cell_type": "raw",
   "metadata": {
    "collapsed": false
   },
   "source": [
    "The initial check is the head request, a fundamental job of the server is to respond to the request. Use the \"headers\" parameter for logging into the server. Disregard this parameter if the server lacks the login feature."
   ]
  },
  {
   "cell_type": "code",
   "execution_count": 5,
   "metadata": {
    "collapsed": false,
    "ExecuteTime": {
     "end_time": "2023-12-31T06:01:34.520652451Z",
     "start_time": "2023-12-31T06:00:39.601156646Z"
    }
   },
   "outputs": [
    {
     "name": "stdout",
     "output_type": "stream",
     "text": [
      "<Response [500]>\n"
     ]
    }
   ],
   "source": [
    "headers = {\"Authorization\": \"Basic Y2xpZW50MToxMjM=\"}\n",
    "q = requests.head('http://localhost:8080/', headers=headers)\n",
    "print(q)\n"
   ]
  },
  {
   "cell_type": "raw",
   "metadata": {
    "collapsed": false
   },
   "source": [
    "Test get request"
   ]
  },
  {
   "cell_type": "code",
   "execution_count": null,
   "metadata": {
    "collapsed": false,
    "ExecuteTime": {
     "start_time": "2023-12-31T05:58:25.426580059Z"
    }
   },
   "outputs": [],
   "source": [
    "headers = {\"Authorization\": \"Basic Y2xpZW50MToxMjM=\"}\n",
    "q = requests.get('http://localhost:8080/', headers=headers)\n",
    "print(q)"
   ]
  },
  {
   "cell_type": "raw",
   "metadata": {
    "collapsed": false
   },
   "source": [
    "Test post request"
   ]
  },
  {
   "cell_type": "code",
   "execution_count": null,
   "metadata": {
    "collapsed": false,
    "ExecuteTime": {
     "start_time": "2023-12-31T05:58:25.426621754Z"
    }
   },
   "outputs": [],
   "source": [
    "headers = {\"Authorization\": \"Basic Y2xpZW50MToxMjM=\"}  #FIXME\n",
    "q = requests.post('http://localhost:8080/', headers=headers)\n",
    "print(q)"
   ]
  },
  {
   "cell_type": "raw",
   "metadata": {
    "collapsed": false
   },
   "source": [
    "Next, we will provide test examples based on the chapters in the project documentation. Each test is accompanied by a output. We do not check exact string matches for your output, as long as you complete the corresponding task.\n",
    "\n"
   ]
  },
  {
   "cell_type": "code",
   "execution_count": null,
   "metadata": {
    "collapsed": false,
    "ExecuteTime": {
     "start_time": "2023-12-31T05:58:25.426677802Z"
    }
   },
   "outputs": [],
   "source": [
    "#1.1\n",
    "headers = {\"Authorization\": \"Basic Y2xpZW50MToxMjM=\"}\n",
    "session = requests.Session()\n",
    "session.headers.update({'Connection': 'keep-alive'})\n",
    "\n",
    "response1 = session.get('http://127.0.0.1:8080', headers=headers)\n",
    "response2 = session.get('http://127.0.0.1:8080', headers=headers)\n",
    "\n",
    "print(response1)\n",
    "print(response2)\n",
    "\n",
    "\n"
   ]
  },
  {
   "cell_type": "code",
   "execution_count": null,
   "metadata": {
    "collapsed": false,
    "ExecuteTime": {
     "start_time": "2023-12-31T05:58:25.426719903Z"
    }
   },
   "outputs": [],
   "source": [
    "#1.2\n",
    "#1.1\n",
    "headers = {\"Authorization\": \"Basic Y2xpZW50MToxMjM=\"}\n",
    "session1 = requests.Session()\n",
    "session1.headers.update({'Connection': 'keep-alive'})\n",
    "session2 = requests.Session()\n",
    "session2.headers.update({'Connection': 'keep-alive'})\n",
    "\n",
    "response1 = session1.get('http://127.0.0.1:8080', headers=headers)\n",
    "response2 = session2.get('http://127.0.0.1:8080', headers=headers)\n",
    "\n",
    "print(response1)\n",
    "print(response2)\n"
   ]
  },
  {
   "cell_type": "code",
   "execution_count": null,
   "metadata": {
    "collapsed": false,
    "ExecuteTime": {
     "start_time": "2023-12-31T05:58:25.426761330Z"
    }
   },
   "outputs": [],
   "source": [
    "#1.3\n",
    "headers1 = {\"Authorization\": \"Basic Y2xpZW50MToxMjM=\"}\n",
    "headers2 = {}\n",
    "q = requests.head('http://localhost:8080/', headers=headers1)\n",
    "print(q)\n",
    "q = requests.head('http://localhost:8080/', headers=headers2)\n",
    "print(q)"
   ]
  },
  {
   "cell_type": "code",
   "execution_count": null,
   "metadata": {
    "collapsed": false,
    "ExecuteTime": {
     "start_time": "2023-12-31T05:58:25.433915476Z"
    }
   },
   "outputs": [],
   "source": [
    "#2\n",
    "url1 = 'http://127.0.0.1:8080/?SUSTech-HTTP=1'\n",
    "\n",
    "headers = {\"Authorization\": \"Basic Y2xpZW50MToxMjM=\"}\n",
    "r = requests.get(url=url1, headers=headers)\n",
    "print(r)\n",
    "print(r.content.decode())\n",
    "\n",
    "\n"
   ]
  },
  {
   "cell_type": "code",
   "execution_count": null,
   "metadata": {
    "collapsed": false,
    "ExecuteTime": {
     "start_time": "2023-12-31T05:58:25.434005765Z"
    }
   },
   "outputs": [],
   "source": [
    "#2\n",
    "url2 = 'http://127.0.0.1:8080/?SUSTech-HTTP=0'\n",
    "\n",
    "headers = {\"Authorization\": \"Basic Y2xpZW50MToxMjM=\"}\n",
    "r = requests.get(url=url2, headers=headers)\n",
    "print(r.content.decode())"
   ]
  },
  {
   "cell_type": "code",
   "execution_count": null,
   "metadata": {
    "collapsed": false,
    "ExecuteTime": {
     "start_time": "2023-12-31T05:58:25.434047605Z"
    }
   },
   "outputs": [],
   "source": [
    "#2\n",
    "headers = {\"Authorization\": \"Basic Y2xpZW50MToxMjM=\"}  #FIXME: access root directory\n",
    "r = requests.get(url='http://127.0.0.1:8080/a.txt', headers=headers)\n",
    "print(r.content.decode())"
   ]
  },
  {
   "cell_type": "code",
   "outputs": [],
   "source": [],
   "metadata": {
    "collapsed": false,
    "ExecuteTime": {
     "start_time": "2023-12-31T05:58:25.434088226Z"
    }
   },
   "execution_count": null
  },
  {
   "cell_type": "code",
   "execution_count": null,
   "metadata": {
    "collapsed": false,
    "ExecuteTime": {
     "start_time": "2023-12-31T05:58:25.434125465Z"
    }
   },
   "outputs": [],
   "source": [
    "#3.1\n",
    "files = {\"firstFile\": open('tmp/a.txt', \"rb\")}\n",
    "\n",
    "data = {}\n",
    "headers = {\"Authorization\": \"Basic Y2xpZW50MToxMjM=\"}\n",
    "r = requests.post(url='http://127.0.0.1:8080/upload?path=client1/', data=data, headers=headers, files=files)\n",
    "print(r)\n",
    "r = requests.post(url='http://127.0.0.1:8080/upload?path=client2/', data=data, headers=headers, files=files)\n",
    "print(r)"
   ]
  },
  {
   "cell_type": "code",
   "execution_count": null,
   "metadata": {
    "collapsed": false,
    "ExecuteTime": {
     "start_time": "2023-12-31T05:58:25.434163768Z"
    }
   },
   "outputs": [],
   "source": [
    "#3.2\n",
    "url = 'http://127.0.0.1:8080/delete?path=client1/a.py'  #FIXME: path没加/，真ex啊\n",
    "\n",
    "headers = {\"Authorization\": \"Basic Y2xpZW50MToxMjM=\"}\n",
    "r = requests.post(url=url, headers=headers)\n",
    "print(r)"
   ]
  },
  {
   "cell_type": "code",
   "execution_count": null,
   "metadata": {
    "collapsed": false,
    "ExecuteTime": {
     "start_time": "2023-12-31T05:58:25.434212758Z"
    }
   },
   "outputs": [],
   "source": [
    "#4\n",
    "url = 'http://127.0.0.1:8080/'\n",
    "\n",
    "headers = {\"Authorization\": \"Basic Y2xpZW50MToxMjM=\"}  #TODO: cookie\n",
    "r = requests.get(url=url, headers=headers)\n",
    "print(r.cookies.values()[0])\n",
    "headers = {\"Cookie\": 'session-id=' + r.cookies.values()[0]}\n",
    "q = requests.get('http://localhost:8080/', headers=headers)\n",
    "print(q)\n",
    "# print(q.cookies)"
   ]
  },
  {
   "cell_type": "code",
   "execution_count": null,
   "metadata": {
    "collapsed": false,
    "ExecuteTime": {
     "start_time": "2023-12-31T05:58:25.434250418Z"
    }
   },
   "outputs": [],
   "source": [
    "#5\n",
    "headers = {\"Authorization\": \"Basic Y2xpZW50MToxMjM=\"}\n",
    "r = requests.get(url='http://127.0.0.1:8080/client1/a.txt?chunked=1', headers=headers)\n",
    "print(r)"
   ]
  },
  {
   "cell_type": "code",
   "execution_count": null,
   "metadata": {
    "collapsed": false,
    "ExecuteTime": {
     "start_time": "2023-12-31T05:58:25.434300433Z"
    }
   },
   "outputs": [],
   "source": [
    "#Breakpoint Transmission\n",
    "url = 'http://127.0.0.1:8080/client1/a.txt'\n",
    "\n",
    "data = {}\n",
    "headers = {\"Authorization\": \"Basic Y2xpZW50MToxMjM=\",\n",
    "           \"Range\": \"0-1,1-2,2-3\"}\n",
    "r = requests.get(url=url, data=data, headers=headers)\n",
    "print(r.content.decode())"
   ]
  },
  {
   "cell_type": "code",
   "outputs": [],
   "source": [],
   "metadata": {
    "collapsed": false,
    "ExecuteTime": {
     "start_time": "2023-12-31T05:58:25.434338067Z"
    }
   }
  }
 ],
 "metadata": {
  "kernelspec": {
   "display_name": "Python 3",
   "language": "python",
   "name": "python3"
  },
  "language_info": {
   "codemirror_mode": {
    "name": "ipython",
    "version": 3
   },
   "file_extension": ".py",
   "mimetype": "text/x-python",
   "name": "python",
   "nbconvert_exporter": "python",
   "pygments_lexer": "ipython3",
   "version": "3.10.12"
  }
 },
 "nbformat": 4,
 "nbformat_minor": 0
}
