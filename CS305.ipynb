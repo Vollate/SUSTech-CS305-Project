{
 "cells": [
  {
   "cell_type": "raw",
   "metadata": {
    "collapsed": false
   },
   "source": [
    "In the project, the majority of tasks will undergo script testing, with only a few being reviewed by the TA. Be aware that this testing material is not final and cannot cover all testing scenarios. If you are caught cheating during testing, the whole group will receive a score of 0 for the project."
   ]
  },
  {
   "cell_type": "raw",
   "metadata": {
    "collapsed": false
   },
   "source": [
    "The script checks using the requests library in Python. Before testing, ensure that the server has three users with the usernames \"client1\", \"client2\", and \"client3\", and the passwords \"123\". In the upcoming tests, if the Authorization field is needed, use \"client1\" and \"123\" as both the username and password."
   ]
  },
  {
   "cell_type": "code",
   "execution_count": 19,
   "metadata": {
    "collapsed": false,
    "ExecuteTime": {
     "end_time": "2024-01-01T04:02:25.130367050Z",
     "start_time": "2024-01-01T04:02:25.122143396Z"
    }
   },
   "outputs": [],
   "source": [
    "import requests"
   ]
  },
  {
   "cell_type": "raw",
   "metadata": {
    "collapsed": false
   },
   "source": [
    "The initial check is the head request, a fundamental job of the server is to respond to the request. Use the \"headers\" parameter for logging into the server. Disregard this parameter if the server lacks the login feature."
   ]
  },
  {
   "cell_type": "code",
   "execution_count": 20,
   "metadata": {
    "collapsed": false,
    "ExecuteTime": {
     "end_time": "2024-01-01T04:02:25.144610923Z",
     "start_time": "2024-01-01T04:02:25.132740140Z"
    }
   },
   "outputs": [
    {
     "name": "stdout",
     "output_type": "stream",
     "text": [
      "<Response [200]>\n"
     ]
    }
   ],
   "source": [
    "headers = {\"Authorization\": \"Basic Y2xpZW50MToxMjM=\"}\n",
    "q = requests.head('http://localhost:8080/', headers=headers)\n",
    "print(q)\n"
   ]
  },
  {
   "cell_type": "raw",
   "metadata": {
    "collapsed": false
   },
   "source": [
    "Test get request"
   ]
  },
  {
   "cell_type": "code",
   "execution_count": 21,
   "metadata": {
    "collapsed": false,
    "ExecuteTime": {
     "end_time": "2024-01-01T04:02:25.164526216Z",
     "start_time": "2024-01-01T04:02:25.144603313Z"
    }
   },
   "outputs": [
    {
     "name": "stdout",
     "output_type": "stream",
     "text": [
      "<Response [200]>\n"
     ]
    }
   ],
   "source": [
    "headers = {\"Authorization\": \"Basic Y2xpZW50MToxMjM=\"}\n",
    "q = requests.get('http://localhost:8080/', headers=headers)\n",
    "print(q)"
   ]
  },
  {
   "cell_type": "raw",
   "metadata": {
    "collapsed": false
   },
   "source": [
    "Test post request"
   ]
  },
  {
   "cell_type": "code",
   "execution_count": 22,
   "metadata": {
    "collapsed": false,
    "ExecuteTime": {
     "end_time": "2024-01-01T04:02:25.165482449Z",
     "start_time": "2024-01-01T04:02:25.164338411Z"
    }
   },
   "outputs": [
    {
     "name": "stdout",
     "output_type": "stream",
     "text": [
      "<Response [200]>\n"
     ]
    }
   ],
   "source": [
    "headers = {\"Authorization\": \"Basic Y2xpZW50MToxMjM=\"}\n",
    "q = requests.post('http://localhost:8080/', headers=headers)\n",
    "print(q)"
   ]
  },
  {
   "cell_type": "raw",
   "metadata": {
    "collapsed": false
   },
   "source": [
    "Next, we will provide test examples based on the chapters in the project documentation. Each test is accompanied by a output. We do not check exact string matches for your output, as long as you complete the corresponding task.\n",
    "\n"
   ]
  },
  {
   "cell_type": "code",
   "execution_count": 23,
   "metadata": {
    "collapsed": false,
    "ExecuteTime": {
     "end_time": "2024-01-01T04:02:25.165754128Z",
     "start_time": "2024-01-01T04:02:25.164422402Z"
    }
   },
   "outputs": [
    {
     "name": "stdout",
     "output_type": "stream",
     "text": [
      "<Response [200]>\n",
      "<Response [200]>\n"
     ]
    }
   ],
   "source": [
    "#1.1\n",
    "headers = {\"Authorization\": \"Basic Y2xpZW50MToxMjM=\"}\n",
    "session = requests.Session()\n",
    "session.headers.update({'Connection': 'keep-alive'})\n",
    "\n",
    "response1 = session.get('http://127.0.0.1:8080', headers=headers)\n",
    "response2 = session.get('http://127.0.0.1:8080', headers=headers)\n",
    "\n",
    "print(response1)\n",
    "print(response2)\n",
    "\n",
    "\n"
   ]
  },
  {
   "cell_type": "code",
   "execution_count": 24,
   "metadata": {
    "collapsed": false,
    "ExecuteTime": {
     "end_time": "2024-01-01T04:02:25.166182006Z",
     "start_time": "2024-01-01T04:02:25.164463023Z"
    }
   },
   "outputs": [
    {
     "name": "stdout",
     "output_type": "stream",
     "text": [
      "<Response [200]>\n",
      "<Response [200]>\n"
     ]
    }
   ],
   "source": [
    "#1.2\n",
    "#1.1\n",
    "headers = {\"Authorization\": \"Basic Y2xpZW50MToxMjM=\"}\n",
    "session1 = requests.Session()\n",
    "session1.headers.update({'Connection': 'keep-alive'})\n",
    "session2 = requests.Session()\n",
    "session2.headers.update({'Connection': 'keep-alive'})\n",
    "\n",
    "response1 = session1.get('http://127.0.0.1:8080', headers=headers)\n",
    "response2 = session2.get('http://127.0.0.1:8080', headers=headers)\n",
    "\n",
    "print(response1)\n",
    "print(response2)\n"
   ]
  },
  {
   "cell_type": "code",
   "execution_count": 25,
   "metadata": {
    "collapsed": false,
    "ExecuteTime": {
     "end_time": "2024-01-01T04:02:25.172940076Z",
     "start_time": "2024-01-01T04:02:25.164490761Z"
    }
   },
   "outputs": [
    {
     "name": "stdout",
     "output_type": "stream",
     "text": [
      "<Response [200]>\n",
      "<Response [401]>\n"
     ]
    }
   ],
   "source": [
    "#1.3\n",
    "headers1 = {\"Authorization\": \"Basic Y2xpZW50MToxMjM=\"}\n",
    "headers2 = {}\n",
    "q = requests.head('http://localhost:8080/', headers=headers1)\n",
    "print(q)\n",
    "q = requests.head('http://localhost:8080/', headers=headers2)\n",
    "print(q)"
   ]
  },
  {
   "cell_type": "code",
   "execution_count": 26,
   "metadata": {
    "collapsed": false,
    "ExecuteTime": {
     "end_time": "2024-01-01T04:02:25.174697057Z",
     "start_time": "2024-01-01T04:02:25.173021419Z"
    }
   },
   "outputs": [
    {
     "name": "stdout",
     "output_type": "stream",
     "text": [
      "<Response [200]>\n",
      "['sensei/', 'client1/', '123/', 'favicon.ico', 'a.py', 'client2/', 'alice/', 'client3/', 'a.txt', '12589/']\n"
     ]
    }
   ],
   "source": [
    "#2\n",
    "url1 = 'http://127.0.0.1:8080/?SUSTech-HTTP=1'\n",
    "\n",
    "headers = {\"Authorization\": \"Basic Y2xpZW50MToxMjM=\"}\n",
    "r = requests.get(url=url1, headers=headers)\n",
    "print(r)\n",
    "print(r.content.decode())\n",
    "\n",
    "\n"
   ]
  },
  {
   "cell_type": "code",
   "execution_count": 27,
   "metadata": {
    "collapsed": false,
    "ExecuteTime": {
     "end_time": "2024-01-01T04:02:25.221468139Z",
     "start_time": "2024-01-01T04:02:25.175255881Z"
    }
   },
   "outputs": [
    {
     "name": "stdout",
     "output_type": "stream",
     "text": [
      "<!DOCTYPE HTML PUBLIC \"-//W3C//DTD HTML 4.01//EN\" \"http://www.w3.org/TR/html4/strict.dtd\">\n",
      "<style>\n",
      "    .btn-link {\n",
      "        border: none;\n",
      "        outline: none;\n",
      "        background: none;\n",
      "        cursor: pointer;\n",
      "        color: #0000EE;\n",
      "        padding: 0;\n",
      "        text-decoration: underline;\n",
      "        font-family: inherit;\n",
      "        font-size: inherit;\n",
      "    }\n",
      "</style>\n",
      "<html>\n",
      "\n",
      "<head>\n",
      "    <meta http-equiv=\"Content-Type\" content=\"text/html; charset=utf-8\">\n",
      "    <title>Dragon Server</title>\n",
      "</head>\n",
      "\n",
      "<body>\n",
      "<h1>Current Path: /.</h1>\n",
      "<p>If you are along ...</p>\n",
      "<hr>\n",
      "<ul>\n",
      "    \n",
      "    <li style=\"display: flex; justify-content: space-between; align-items: center;\">\n",
      "        <a href=\"/./\">./</a>\n",
      "\n",
      "        <form action=\"/delete?path=/./\" method=\"post\">\n",
      "            <button type=\"submit\">Delete</button>\n",
      "        </form>\n",
      "        <p></p>\n",
      "    </li>\n",
      "    \n",
      "    <li style=\"display: flex; justify-content: space-between; align-items: center;\">\n",
      "        <a href=\"/./\">../</a>\n",
      "\n",
      "        <form action=\"/delete?path=/./\" method=\"post\">\n",
      "            <button type=\"submit\">Delete</button>\n",
      "        </form>\n",
      "        <p></p>\n",
      "    </li>\n",
      "    \n",
      "    <li style=\"display: flex; justify-content: space-between; align-items: center;\">\n",
      "        <a href=\"/./sensei/\">sensei/</a>\n",
      "\n",
      "        <form action=\"/delete?path=/./sensei/\" method=\"post\">\n",
      "            <button type=\"submit\">Delete</button>\n",
      "        </form>\n",
      "        <p></p>\n",
      "    </li>\n",
      "    \n",
      "    <li style=\"display: flex; justify-content: space-between; align-items: center;\">\n",
      "        <a href=\"/./client1/\">client1/</a>\n",
      "\n",
      "        <form action=\"/delete?path=/./client1/\" method=\"post\">\n",
      "            <button type=\"submit\">Delete</button>\n",
      "        </form>\n",
      "        <p></p>\n",
      "    </li>\n",
      "    \n",
      "    <li style=\"display: flex; justify-content: space-between; align-items: center;\">\n",
      "        <a href=\"/./123/\">123/</a>\n",
      "\n",
      "        <form action=\"/delete?path=/./123/\" method=\"post\">\n",
      "            <button type=\"submit\">Delete</button>\n",
      "        </form>\n",
      "        <p></p>\n",
      "    </li>\n",
      "    \n",
      "    <li style=\"display: flex; justify-content: space-between; align-items: center;\">\n",
      "        <a href=\"/./favicon.ico\">favicon.ico</a>\n",
      "\n",
      "        <form action=\"/delete?path=/./favicon.ico\" method=\"post\">\n",
      "            <button type=\"submit\">Delete</button>\n",
      "        </form>\n",
      "        <p></p>\n",
      "    </li>\n",
      "    \n",
      "    <li style=\"display: flex; justify-content: space-between; align-items: center;\">\n",
      "        <a href=\"/./a.py\">a.py</a>\n",
      "\n",
      "        <form action=\"/delete?path=/./a.py\" method=\"post\">\n",
      "            <button type=\"submit\">Delete</button>\n",
      "        </form>\n",
      "        <p></p>\n",
      "    </li>\n",
      "    \n",
      "    <li style=\"display: flex; justify-content: space-between; align-items: center;\">\n",
      "        <a href=\"/./client2/\">client2/</a>\n",
      "\n",
      "        <form action=\"/delete?path=/./client2/\" method=\"post\">\n",
      "            <button type=\"submit\">Delete</button>\n",
      "        </form>\n",
      "        <p></p>\n",
      "    </li>\n",
      "    \n",
      "    <li style=\"display: flex; justify-content: space-between; align-items: center;\">\n",
      "        <a href=\"/./alice/\">alice/</a>\n",
      "\n",
      "        <form action=\"/delete?path=/./alice/\" method=\"post\">\n",
      "            <button type=\"submit\">Delete</button>\n",
      "        </form>\n",
      "        <p></p>\n",
      "    </li>\n",
      "    \n",
      "    <li style=\"display: flex; justify-content: space-between; align-items: center;\">\n",
      "        <a href=\"/./client3/\">client3/</a>\n",
      "\n",
      "        <form action=\"/delete?path=/./client3/\" method=\"post\">\n",
      "            <button type=\"submit\">Delete</button>\n",
      "        </form>\n",
      "        <p></p>\n",
      "    </li>\n",
      "    \n",
      "    <li style=\"display: flex; justify-content: space-between; align-items: center;\">\n",
      "        <a href=\"/./a.txt\">a.txt</a>\n",
      "\n",
      "        <form action=\"/delete?path=/./a.txt\" method=\"post\">\n",
      "            <button type=\"submit\">Delete</button>\n",
      "        </form>\n",
      "        <p></p>\n",
      "    </li>\n",
      "    \n",
      "    <li style=\"display: flex; justify-content: space-between; align-items: center;\">\n",
      "        <a href=\"/./12589/\">12589/</a>\n",
      "\n",
      "        <form action=\"/delete?path=/./12589/\" method=\"post\">\n",
      "            <button type=\"submit\">Delete</button>\n",
      "        </form>\n",
      "        <p></p>\n",
      "    </li>\n",
      "    \n",
      "</ul>\n",
      "<hr>\n",
      "<form method=\"post\" enctype=\"multipart/form-data\" id=\"uploadForm\" onsubmit=\"setActionWithFilename()\">\n",
      "    <div>\n",
      "        <label for=\"file\">Choose file to upload</label>\n",
      "        <br><br>\n",
      "        <input type=\"file\" id=\"file\" name=\"file\" onchange=\"updateFilename()\"/>\n",
      "    </div>\n",
      "    <br>\n",
      "    <div>\n",
      "        <button type=\"submit\">Submit</button>\n",
      "    </div>\n",
      "</form>\n",
      "</body>\n",
      "<script>\n",
      "    function updateFilename() {\n",
      "        var fileInput = document.getElementById('file');\n",
      "        if (fileInput.files.length > 0) {\n",
      "            var filename = fileInput.files[0].name;\n",
      "            fileInput.setAttribute('data-filename', filename);\n",
      "        }\n",
      "    }\n",
      "\n",
      "    function setActionWithFilename() {\n",
      "        var form = document.getElementById('uploadForm');\n",
      "        var fileInput = document.getElementById('file');\n",
      "        var filename = fileInput.getAttribute('data-filename');\n",
      "        form.action = '/upload?path=/./';\n",
      "    }\n",
      "</script>\n",
      "\n",
      "</html>\n"
     ]
    }
   ],
   "source": [
    "#2\n",
    "url2 = 'http://127.0.0.1:8080/?SUSTech-HTTP=0'\n",
    "\n",
    "headers = {\"Authorization\": \"Basic Y2xpZW50MToxMjM=\"}\n",
    "r = requests.get(url=url2, headers=headers)\n",
    "print(r.content.decode())"
   ]
  },
  {
   "cell_type": "code",
   "execution_count": 28,
   "metadata": {
    "collapsed": false,
    "ExecuteTime": {
     "end_time": "2024-01-01T04:02:25.221983550Z",
     "start_time": "2024-01-01T04:02:25.220902493Z"
    }
   },
   "outputs": [
    {
     "name": "stdout",
     "output_type": "stream",
     "text": [
      "sadfsdfasdf\n"
     ]
    }
   ],
   "source": [
    "#2\n",
    "headers = {\"Authorization\": \"Basic Y2xpZW50MToxMjM=\"}\n",
    "r = requests.get(url='http://127.0.0.1:8080/a.txt', headers=headers)\n",
    "print(r.content.decode())"
   ]
  },
  {
   "cell_type": "code",
   "execution_count": 38,
   "metadata": {
    "collapsed": false,
    "ExecuteTime": {
     "end_time": "2024-01-01T04:23:19.947467566Z",
     "start_time": "2024-01-01T04:23:19.904066936Z"
    }
   },
   "outputs": [
    {
     "name": "stdout",
     "output_type": "stream",
     "text": [
      "<Response [200]>\n",
      "<Response [403]>\n"
     ]
    }
   ],
   "source": [
    "#3.1\n",
    "files = {\"firstFile\": open('tmp/a.txt', \"rb\")}\n",
    "\n",
    "data = {}\n",
    "headers = {\"Authorization\": \"Basic Y2xpZW50MToxMjM=\"}\n",
    "r = requests.post(url='http://127.0.0.1:8080/upload?path=client1/', data=data, headers=headers,\n",
    "                  files=files) \n",
    "print(r)\n",
    "r = requests.post(url='http://127.0.0.1:8080/upload?path=client2/', data=data, headers=headers, files=files)\n",
    "print(r)"
   ]
  },
  {
   "cell_type": "code",
   "execution_count": 30,
   "metadata": {
    "collapsed": false,
    "ExecuteTime": {
     "end_time": "2024-01-01T04:02:25.222535191Z",
     "start_time": "2024-01-01T04:02:25.221170924Z"
    }
   },
   "outputs": [
    {
     "name": "stdout",
     "output_type": "stream",
     "text": [
      "<Response [200]>\n"
     ]
    }
   ],
   "source": [
    "#3.2\n",
    "url = 'http://127.0.0.1:8080/delete?path=client1/a.py'\n",
    "\n",
    "headers = {\"Authorization\": \"Basic Y2xpZW50MToxMjM=\"}\n",
    "r = requests.post(url=url, headers=headers)\n",
    "print(r)"
   ]
  },
  {
   "cell_type": "code",
   "execution_count": 31,
   "metadata": {
    "collapsed": false,
    "ExecuteTime": {
     "end_time": "2024-01-01T04:02:25.222783877Z",
     "start_time": "2024-01-01T04:02:25.221243272Z"
    }
   },
   "outputs": [
    {
     "name": "stdout",
     "output_type": "stream",
     "text": [
      "37df77a2-7d27-4564-a165-007db3e84e20\n",
      "<Response [401]>\n"
     ]
    }
   ],
   "source": [
    "#4\n",
    "url = 'http://127.0.0.1:8080/'\n",
    "\n",
    "headers = {\"Authorization\": \"Basic Y2xpZW50MToxMjM=\"}\n",
    "r = requests.get(url=url, headers=headers)\n",
    "print(r.cookies.values()[0])\n",
    "headers = {\"Cookie\": 'session-id=' + r.cookies.values()[0]}\n",
    "q = requests.get('http://localhost:8080/', headers=headers)\n",
    "print(q)  #FIXME: ?\n",
    "# print(q.cookies)"
   ]
  },
  {
   "cell_type": "code",
   "execution_count": 32,
   "metadata": {
    "collapsed": false,
    "ExecuteTime": {
     "end_time": "2024-01-01T04:02:25.223026950Z",
     "start_time": "2024-01-01T04:02:25.221310693Z"
    }
   },
   "outputs": [
    {
     "name": "stdout",
     "output_type": "stream",
     "text": [
      "<Response [200]>\n"
     ]
    }
   ],
   "source": [
    "#5\n",
    "headers = {\"Authorization\": \"Basic Y2xpZW50MToxMjM=\"}\n",
    "r = requests.get(url='http://127.0.0.1:8080/client1/a.txt?chunked=1', headers=headers)\n",
    "print(r)"
   ]
  },
  {
   "cell_type": "code",
   "execution_count": 33,
   "metadata": {
    "collapsed": false,
    "ExecuteTime": {
     "end_time": "2024-01-01T04:02:25.223452916Z",
     "start_time": "2024-01-01T04:02:25.221478967Z"
    }
   },
   "outputs": [
    {
     "name": "stdout",
     "output_type": "stream",
     "text": [
      "sadfsdfasdf\n"
     ]
    }
   ],
   "source": [
    "#Breakpoint Transmission\n",
    "url = 'http://127.0.0.1:8080/client1/a.txt'\n",
    "\n",
    "data = {}\n",
    "headers = {\"Authorization\": \"Basic Y2xpZW50MToxMjM=\",\n",
    "           \"Range\": \"0-1,1-2,2-3\"}\n",
    "r = requests.get(url=url, data=data, headers=headers)\n",
    "print(r.content.decode())"
   ]
  },
  {
   "cell_type": "code",
   "execution_count": 33,
   "metadata": {
    "collapsed": false,
    "ExecuteTime": {
     "end_time": "2024-01-01T04:02:25.223706061Z",
     "start_time": "2024-01-01T04:02:25.221604475Z"
    }
   },
   "outputs": [],
   "source": []
  }
 ],
 "metadata": {
  "kernelspec": {
   "display_name": "Python 3",
   "language": "python",
   "name": "python3"
  },
  "language_info": {
   "codemirror_mode": {
    "name": "ipython",
    "version": 3
   },
   "file_extension": ".py",
   "mimetype": "text/x-python",
   "name": "python",
   "nbconvert_exporter": "python",
   "pygments_lexer": "ipython3",
   "version": "3.10.0"
  }
 },
 "nbformat": 4,
 "nbformat_minor": 0
}
